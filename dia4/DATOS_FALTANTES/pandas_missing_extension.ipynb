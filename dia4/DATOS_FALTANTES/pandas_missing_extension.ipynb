{
  "nbformat": 4,
  "nbformat_minor": 0,
  "metadata": {
    "colab": {
      "provenance": []
    },
    "kernelspec": {
      "name": "python3",
      "display_name": "Python 3"
    },
    "language_info": {
      "name": "python"
    }
  },
  "cells": [
    {
      "cell_type": "markdown",
      "source": [
        "# EXTENSION DEL API DE PANDAS PARA MANEJO DE DATOS FALTANTES(MISSING)"
      ],
      "metadata": {
        "id": "UvE7R9ed2Gjp"
      }
    },
    {
      "cell_type": "code",
      "source": [
        "!pip install upsetplot"
      ],
      "metadata": {
        "colab": {
          "base_uri": "https://localhost:8080/"
        },
        "id": "FDXs-2d42R2c",
        "outputId": "863b0499-5857-4641-99b1-9e5bcf14cf61"
      },
      "execution_count": 3,
      "outputs": [
        {
          "output_type": "stream",
          "name": "stdout",
          "text": [
            "Collecting upsetplot\n",
            "  Downloading UpSetPlot-0.9.0.tar.gz (23 kB)\n",
            "  Installing build dependencies ... \u001b[?25l\u001b[?25hdone\n",
            "  Getting requirements to build wheel ... \u001b[?25l\u001b[?25hdone\n",
            "  Preparing metadata (pyproject.toml) ... \u001b[?25l\u001b[?25hdone\n",
            "Requirement already satisfied: pandas>=0.23 in /usr/local/lib/python3.11/dist-packages (from upsetplot) (2.2.2)\n",
            "Requirement already satisfied: matplotlib>=2.0 in /usr/local/lib/python3.11/dist-packages (from upsetplot) (3.10.0)\n",
            "Requirement already satisfied: contourpy>=1.0.1 in /usr/local/lib/python3.11/dist-packages (from matplotlib>=2.0->upsetplot) (1.3.1)\n",
            "Requirement already satisfied: cycler>=0.10 in /usr/local/lib/python3.11/dist-packages (from matplotlib>=2.0->upsetplot) (0.12.1)\n",
            "Requirement already satisfied: fonttools>=4.22.0 in /usr/local/lib/python3.11/dist-packages (from matplotlib>=2.0->upsetplot) (4.55.8)\n",
            "Requirement already satisfied: kiwisolver>=1.3.1 in /usr/local/lib/python3.11/dist-packages (from matplotlib>=2.0->upsetplot) (1.4.8)\n",
            "Requirement already satisfied: numpy>=1.23 in /usr/local/lib/python3.11/dist-packages (from matplotlib>=2.0->upsetplot) (1.26.4)\n",
            "Requirement already satisfied: packaging>=20.0 in /usr/local/lib/python3.11/dist-packages (from matplotlib>=2.0->upsetplot) (24.2)\n",
            "Requirement already satisfied: pillow>=8 in /usr/local/lib/python3.11/dist-packages (from matplotlib>=2.0->upsetplot) (11.1.0)\n",
            "Requirement already satisfied: pyparsing>=2.3.1 in /usr/local/lib/python3.11/dist-packages (from matplotlib>=2.0->upsetplot) (3.2.1)\n",
            "Requirement already satisfied: python-dateutil>=2.7 in /usr/local/lib/python3.11/dist-packages (from matplotlib>=2.0->upsetplot) (2.8.2)\n",
            "Requirement already satisfied: pytz>=2020.1 in /usr/local/lib/python3.11/dist-packages (from pandas>=0.23->upsetplot) (2025.1)\n",
            "Requirement already satisfied: tzdata>=2022.7 in /usr/local/lib/python3.11/dist-packages (from pandas>=0.23->upsetplot) (2025.1)\n",
            "Requirement already satisfied: six>=1.5 in /usr/local/lib/python3.11/dist-packages (from python-dateutil>=2.7->matplotlib>=2.0->upsetplot) (1.17.0)\n",
            "Building wheels for collected packages: upsetplot\n",
            "  Building wheel for upsetplot (pyproject.toml) ... \u001b[?25l\u001b[?25hdone\n",
            "  Created wheel for upsetplot: filename=UpSetPlot-0.9.0-py3-none-any.whl size=24839 sha256=262c3bcb2bfc23b1b11afaa13eb1f395d8aa2b523de66a65d13b3507462cac33\n",
            "  Stored in directory: /root/.cache/pip/wheels/7b/ce/88/1d0bce5b2680165c29c3e68416325e79674d5a9f422d037996\n",
            "Successfully built upsetplot\n",
            "Installing collected packages: upsetplot\n",
            "Successfully installed upsetplot-0.9.0\n"
          ]
        }
      ]
    },
    {
      "cell_type": "code",
      "execution_count": 4,
      "metadata": {
        "id": "FJSJfhyL2AnZ"
      },
      "outputs": [],
      "source": [
        "import itertools\n",
        "import upsetplot\n",
        "import pandas as pd"
      ]
    },
    {
      "cell_type": "code",
      "source": [
        "try:\n",
        "  del pd.DataFrame.missing\n",
        "except AttributeError:\n",
        "  pass"
      ],
      "metadata": {
        "id": "BKdQn4ba2e-g"
      },
      "execution_count": 5,
      "outputs": []
    },
    {
      "cell_type": "code",
      "source": [
        "@pd.api.extensions.register_dataframe_accessor(\"missing\")\n",
        "class MissingMethods:\n",
        "    def __init__(self,pandas_obj):\n",
        "      self._obj = pandas_obj\n",
        "\n",
        "    def number_missing(self) -> int:\n",
        "      return self._obj.isna().sum().sum()\n",
        "\n",
        "    def number_complete(self) -> int:\n",
        "      return self._obj.size - self._obj.missing.number_missing()\n",
        "\n",
        "    def missing_variable_summary(self) -> pd.DataFrame:\n",
        "        return self._obj.isna().pipe(\n",
        "            lambda df_1: (\n",
        "                df_1.sum()\n",
        "                .reset_index(name=\"n_missing\")\n",
        "                .rename(columns={\"index\":\"variable\"})\n",
        "                .assign(\n",
        "                    n_cases=len(df_1),\n",
        "                    pct_missing=lambda df_2: df_2.n_missing / df_2.n_cases * 100,\n",
        "                )\n",
        "            )\n",
        "        )"
      ],
      "metadata": {
        "id": "nQWyddTi2ngg"
      },
      "execution_count": 6,
      "outputs": []
    }
  ]
}
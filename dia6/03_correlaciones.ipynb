{
  "nbformat": 4,
  "nbformat_minor": 0,
  "metadata": {
    "colab": {
      "provenance": []
    },
    "kernelspec": {
      "name": "python3",
      "display_name": "Python 3"
    },
    "language_info": {
      "name": "python"
    }
  },
  "cells": [
    {
      "cell_type": "code",
      "execution_count": 1,
      "metadata": {
        "id": "bbuVQhGNGjjD"
      },
      "outputs": [],
      "source": [
        "import numpy as np\n",
        "import pandas as pd\n",
        "import seaborn as sns\n",
        "import matplotlib.pyplot as plt"
      ]
    },
    {
      "cell_type": "markdown",
      "source": [
        "# COMO CALCULAR EL % DE CORRELACIÓN ENTRE 2 VARIABLES"
      ],
      "metadata": {
        "id": "ASDgNSCZGvKa"
      }
    },
    {
      "cell_type": "code",
      "source": [
        "x = np.linspace(0,100,100)\n",
        "x"
      ],
      "metadata": {
        "colab": {
          "base_uri": "https://localhost:8080/"
        },
        "id": "X1ivuug2Gywy",
        "outputId": "3ffad9dc-e530-4352-ea95-c2df554b79e5"
      },
      "execution_count": 2,
      "outputs": [
        {
          "output_type": "execute_result",
          "data": {
            "text/plain": [
              "array([  0.        ,   1.01010101,   2.02020202,   3.03030303,\n",
              "         4.04040404,   5.05050505,   6.06060606,   7.07070707,\n",
              "         8.08080808,   9.09090909,  10.1010101 ,  11.11111111,\n",
              "        12.12121212,  13.13131313,  14.14141414,  15.15151515,\n",
              "        16.16161616,  17.17171717,  18.18181818,  19.19191919,\n",
              "        20.2020202 ,  21.21212121,  22.22222222,  23.23232323,\n",
              "        24.24242424,  25.25252525,  26.26262626,  27.27272727,\n",
              "        28.28282828,  29.29292929,  30.3030303 ,  31.31313131,\n",
              "        32.32323232,  33.33333333,  34.34343434,  35.35353535,\n",
              "        36.36363636,  37.37373737,  38.38383838,  39.39393939,\n",
              "        40.4040404 ,  41.41414141,  42.42424242,  43.43434343,\n",
              "        44.44444444,  45.45454545,  46.46464646,  47.47474747,\n",
              "        48.48484848,  49.49494949,  50.50505051,  51.51515152,\n",
              "        52.52525253,  53.53535354,  54.54545455,  55.55555556,\n",
              "        56.56565657,  57.57575758,  58.58585859,  59.5959596 ,\n",
              "        60.60606061,  61.61616162,  62.62626263,  63.63636364,\n",
              "        64.64646465,  65.65656566,  66.66666667,  67.67676768,\n",
              "        68.68686869,  69.6969697 ,  70.70707071,  71.71717172,\n",
              "        72.72727273,  73.73737374,  74.74747475,  75.75757576,\n",
              "        76.76767677,  77.77777778,  78.78787879,  79.7979798 ,\n",
              "        80.80808081,  81.81818182,  82.82828283,  83.83838384,\n",
              "        84.84848485,  85.85858586,  86.86868687,  87.87878788,\n",
              "        88.88888889,  89.8989899 ,  90.90909091,  91.91919192,\n",
              "        92.92929293,  93.93939394,  94.94949495,  95.95959596,\n",
              "        96.96969697,  97.97979798,  98.98989899, 100.        ])"
            ]
          },
          "metadata": {},
          "execution_count": 2
        }
      ]
    },
    {
      "cell_type": "code",
      "source": [
        "y = x ** 2\n",
        "y"
      ],
      "metadata": {
        "colab": {
          "base_uri": "https://localhost:8080/"
        },
        "id": "TtXJqXxLG3LZ",
        "outputId": "db9bfa55-b890-4c79-c179-19f763ace1ee"
      },
      "execution_count": 3,
      "outputs": [
        {
          "output_type": "execute_result",
          "data": {
            "text/plain": [
              "array([0.00000000e+00, 1.02030405e+00, 4.08121620e+00, 9.18273646e+00,\n",
              "       1.63248648e+01, 2.55076013e+01, 3.67309458e+01, 4.99948985e+01,\n",
              "       6.52994592e+01, 8.26446281e+01, 1.02030405e+02, 1.23456790e+02,\n",
              "       1.46923783e+02, 1.72431385e+02, 1.99979594e+02, 2.29568411e+02,\n",
              "       2.61197837e+02, 2.94867871e+02, 3.30578512e+02, 3.68329762e+02,\n",
              "       4.08121620e+02, 4.49954086e+02, 4.93827160e+02, 5.39740843e+02,\n",
              "       5.87695133e+02, 6.37690032e+02, 6.89725538e+02, 7.43801653e+02,\n",
              "       7.99918376e+02, 8.58075707e+02, 9.18273646e+02, 9.80512193e+02,\n",
              "       1.04479135e+03, 1.11111111e+03, 1.17947148e+03, 1.24987246e+03,\n",
              "       1.32231405e+03, 1.39679625e+03, 1.47331905e+03, 1.55188246e+03,\n",
              "       1.63248648e+03, 1.71513111e+03, 1.79981635e+03, 1.88654219e+03,\n",
              "       1.97530864e+03, 2.06611570e+03, 2.15896337e+03, 2.25385165e+03,\n",
              "       2.35078053e+03, 2.44975003e+03, 2.55076013e+03, 2.65381084e+03,\n",
              "       2.75890215e+03, 2.86603408e+03, 2.97520661e+03, 3.08641975e+03,\n",
              "       3.19967350e+03, 3.31496786e+03, 3.43230283e+03, 3.55167840e+03,\n",
              "       3.67309458e+03, 3.79655137e+03, 3.92204877e+03, 4.04958678e+03,\n",
              "       4.17916539e+03, 4.31078461e+03, 4.44444444e+03, 4.58014488e+03,\n",
              "       4.71788593e+03, 4.85766758e+03, 4.99948985e+03, 5.14335272e+03,\n",
              "       5.28925620e+03, 5.43720029e+03, 5.58718498e+03, 5.73921028e+03,\n",
              "       5.89327620e+03, 6.04938272e+03, 6.20752984e+03, 6.36771758e+03,\n",
              "       6.52994592e+03, 6.69421488e+03, 6.86052444e+03, 7.02887460e+03,\n",
              "       7.19926538e+03, 7.37169677e+03, 7.54616876e+03, 7.72268136e+03,\n",
              "       7.90123457e+03, 8.08182838e+03, 8.26446281e+03, 8.44913784e+03,\n",
              "       8.63585348e+03, 8.82460973e+03, 9.01540659e+03, 9.20824406e+03,\n",
              "       9.40312213e+03, 9.60004081e+03, 9.79900010e+03, 1.00000000e+04])"
            ]
          },
          "metadata": {},
          "execution_count": 3
        }
      ]
    },
    {
      "cell_type": "markdown",
      "source": [
        "# GRAFICO DE CORRELACIÓN ENTRE X y Y"
      ],
      "metadata": {
        "id": "aHqSYgjAG9ZD"
      }
    },
    {
      "cell_type": "code",
      "source": [
        "sns.scatterplot(x=x,y=y)"
      ],
      "metadata": {
        "colab": {
          "base_uri": "https://localhost:8080/",
          "height": 447
        },
        "id": "d8F3dliaG8dU",
        "outputId": "84014bdb-3a2b-4d2d-a3e1-d8de222a67bd"
      },
      "execution_count": 4,
      "outputs": [
        {
          "output_type": "execute_result",
          "data": {
            "text/plain": [
              "<Axes: >"
            ]
          },
          "metadata": {},
          "execution_count": 4
        },
        {
          "output_type": "display_data",
          "data": {
            "text/plain": [
              "<Figure size 640x480 with 1 Axes>"
            ],
            "image/png": "[encoded data removed]"
          },
          "metadata": {}
        }
      ]
    },
    {
      "cell_type": "markdown",
      "source": [
        "# CALCULO DE CORRELACIÓN"
      ],
      "metadata": {
        "id": "OaOme4E_HKH6"
      }
    },
    {
      "cell_type": "code",
      "source": [
        "np.corrcoef(x,y)"
      ],
      "metadata": {
        "colab": {
          "base_uri": "https://localhost:8080/"
        },
        "id": "tjUbhLbAHM7y",
        "outputId": "7c7d92a2-f6d3-4d31-960d-2346b6ebd31e"
      },
      "execution_count": 5,
      "outputs": [
        {
          "output_type": "execute_result",
          "data": {
            "text/plain": [
              "array([[1.        , 0.96764439],\n",
              "       [0.96764439, 1.        ]])"
            ]
          },
          "metadata": {},
          "execution_count": 5
        }
      ]
    },
    {
      "cell_type": "markdown",
      "source": [
        "## COEFICIENTE DE CORRELACIÓN DE PEARSON\n",
        "[wikipedia](https://es.wikipedia.org/wiki/Coeficiente_de_correlaci%C3%B3n_de_Pearson)"
      ],
      "metadata": {
        "id": "fGsw3nUVHRLj"
      }
    }
  ]
}